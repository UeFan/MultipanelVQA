{
 "cells": [
  {
   "cell_type": "code",
   "execution_count": 1,
   "metadata": {},
   "outputs": [],
   "source": [
    "import json, os\n",
    "data = {}\n",
    "layout_img_folder = '../../layout_new'"
   ]
  },
  {
   "cell_type": "markdown",
   "metadata": {},
   "source": [
    "## Generate splash style layouts with 8 subfigures"
   ]
  },
  {
   "cell_type": "code",
   "execution_count": 2,
   "metadata": {},
   "outputs": [],
   "source": [
    "import matplotlib.pyplot as plt\n",
    "import numpy as np\n",
    "import random\n",
    "import cv2\n",
    "\n",
    "def create_gallery_layout_v3(num_images, canvas_size=(1000, 1000), circle_size=220, max_distance=320):\n",
    "    \"\"\"\n",
    "    Create a gallery layout with non-overlapping circles and resize images to fit in these circles. Ensures that the\n",
    "    diagonal of the image is smaller than the diameter of the circle and the distance between any two circles does not\n",
    "    exceed a maximum threshold.\n",
    "\n",
    "    :param image_sizes: List of tuples containing image width and height.\n",
    "    :param canvas_size: Size of the canvas (width, height).\n",
    "    :param min_circle_size: Minimum size of the circles.\n",
    "    :param max_circle_size: Maximum size of the circles.\n",
    "    :param max_distance: Maximum allowed distance between any two circles.\n",
    "    :return: List of circles with their positions and sizes, and resized image dimensions.\n",
    "    \"\"\"\n",
    "    def circles_overlap(circle1, circle2):\n",
    "        distance = np.sqrt((circle1[0] - circle2[0])**2 + (circle1[1] - circle2[1])**2)\n",
    "        return distance  < (circle1[2] + circle2[2])/2\n",
    "\n",
    "    def within_max_distance(circle, other_circles):\n",
    "        if len(other_circles) == 0:\n",
    "            return True\n",
    "        for c in other_circles:\n",
    "            if np.sqrt((circle[0] - c[0])**2 + (circle[1] - c[1])**2) <= max_distance :\n",
    "                return True\n",
    "        return False\n",
    "    circles = []\n",
    "    \n",
    "    \n",
    "    while True:\n",
    "        flag = '1'\n",
    "        for i in range(num_images):\n",
    "            d = circle_size\n",
    "            ok_xy = []\n",
    "            for x in range(d, canvas_size[0] - int(d/2), 5):\n",
    "                for y in range(d, canvas_size[1] - int(d/2),5):\n",
    "                    new_circle = (x, y, d)\n",
    "                    if all(not circles_overlap(new_circle, circle) for circle in circles) and within_max_distance(new_circle, circles[:]):\n",
    "                        ok_xy.append((x, y))\n",
    "            if len(ok_xy)>0:\n",
    "                (x, y) = random.choice(ok_xy)       \n",
    "                new_circle = (x, y, d)\n",
    "                circles.append(new_circle)\n",
    "        \n",
    "            else:\n",
    "                print(i)\n",
    "                flag = '0'\n",
    "                break\n",
    "        if flag == '1' and i == num_images - 1:\n",
    "            break\n",
    "        \n",
    "\n",
    "    return circles\n",
    "\n",
    "\n",
    "\n",
    "def crop_to_circles_with_margin(circles, canvas_size, margin_range=(50, 100)):\n",
    "    \"\"\"\n",
    "    Crop the canvas to only include the part with circles, while keeping a random margin and maintaining the aspect ratio.\n",
    "\n",
    "    :param circles: List of circles (x, y, d).\n",
    "    :param canvas_size: Original size of the canvas (width, height).\n",
    "    :param margin_range: Range for the random margin (min, max).\n",
    "    :return: Cropped canvas dimensions and offset (x_offset, y_offset, cropped_width, cropped_height).\n",
    "    \"\"\"\n",
    "    # Find the bounding box of all circles\n",
    "    min_x = min(circle[0] - circle[2]/2 for circle in circles)\n",
    "    max_x = max(circle[0] + circle[2]/2 for circle in circles)\n",
    "    min_y = min(circle[1] - circle[2]/2 for circle in circles)\n",
    "    max_y = max(circle[1] + circle[2]/2 for circle in circles)\n",
    "\n",
    "    # Add a random margin\n",
    "    margin = random.randint(*margin_range)\n",
    "    print(margin)\n",
    "    min_x = max(min_x - margin, 0)\n",
    "    max_x = min(max_x + margin, canvas_size[0])\n",
    "    min_y = max(min_y - margin, 0)\n",
    "    max_y = min(max_y + margin, canvas_size[1])\n",
    "\n",
    "    # Calculate the cropped dimensions\n",
    "    cropped_width = max_x - min_x\n",
    "    cropped_height = max_y - min_y\n",
    "    \n",
    "\n",
    "    return min_x, min_y, cropped_width, cropped_height\n",
    "\n",
    "\n"
   ]
  },
  {
   "cell_type": "code",
   "execution_count": 3,
   "metadata": {},
   "outputs": [
    {
     "name": "stdout",
     "output_type": "stream",
     "text": [
      "[(380, 325, 220), (480, 545, 220), (540, 825, 220), (305, 760, 220), (760, 415, 220), (790, 645, 220), (855, 875, 220), (260, 540, 220)]\n",
      "67\n",
      "83.0 148.0 917.0 917.0\n",
      "[(370, 670, 220), (300, 425, 220), (530, 850, 220), (700, 630, 220), (605, 350, 220), (885, 305, 220), (825, 855, 220), (225, 850, 220)]\n",
      "81\n",
      "34.0 114.0 966.0 966.0\n"
     ]
    }
   ],
   "source": [
    "layout = []\n",
    "\n",
    "for num in range(8,9):\n",
    "    data[num] = []\n",
    "    for iter in range(2):\n",
    "\n",
    "        layout_ = {}\n",
    "        # Example usage with the same image sizes\n",
    "        circles_v3  = create_gallery_layout_v3(num)\n",
    "        print(circles_v3)\n",
    "\n",
    "\n",
    "        # Cropping the layout\n",
    "        x_offset, y_offset, cropped_width, cropped_height = crop_to_circles_with_margin(circles_v3, (1000, 1000))\n",
    "        cropped_width = cropped_height = max(cropped_width, cropped_height)\n",
    "        print(x_offset, y_offset, cropped_width, cropped_height)\n",
    "        \n",
    "        output_size = [1000,1000]\n",
    "        # Create a blank white canvas with the desired output size\n",
    "        canvas = np.ones((output_size[1], output_size[0], 3), dtype=np.uint8) * 255\n",
    "\n",
    "        layout_['layout_size'] = canvas.shape\n",
    "        layout_['layout_id'] = str(num) + '_' + str(iter)\n",
    "        layout_['pos'] = []\n",
    "        # # Calculate the scaling factor to fit the cropped layout into the canvas\n",
    "        scale_factor = min(output_size[0] / cropped_width, output_size[1] / cropped_height)\n",
    "\n",
    "        # Draw the cropped layout on the canvas\n",
    "        for (x, y, d)in circles_v3:\n",
    "            # Calculate the coordinates of the top-left corner of the rectangle\n",
    "            rect_x = int(x - x_offset - d/2)\n",
    "            rect_y = int(y - y_offset - d/2)\n",
    "\n",
    "            \n",
    "            # Calculate the width and height of the rectangle\n",
    "            rect_w = int(d/2 * 1.4 * scale_factor)\n",
    "            rect_h = int(d/2 * 1.4 * scale_factor)\n",
    "\n",
    "            # Draw the rectangle on the canvas\n",
    "            cv2.rectangle(canvas, (rect_x, rect_y), (rect_x + rect_w, rect_y + rect_h), (0, 0, 0), 2)\n",
    "            layout_['pos'].append([rect_x, rect_y, rect_x + rect_w, rect_y + rect_h])\n",
    "        cv2.imwrite(os.path.join(layout_img_folder, layout_['layout_id']+'.jpg'), canvas)\n",
    "        layout_['image'] = layout_img_folder + layout_['layout_id']+'.jpg'\n",
    "        layout.append(layout_)\n"
   ]
  },
  {
   "cell_type": "code",
   "execution_count": null,
   "metadata": {},
   "outputs": [],
   "source": []
  },
  {
   "cell_type": "code",
   "execution_count": 4,
   "metadata": {},
   "outputs": [
    {
     "data": {
      "text/plain": [
       "2"
      ]
     },
     "execution_count": 4,
     "metadata": {},
     "output_type": "execute_result"
    }
   ],
   "source": [
    "len(layout)"
   ]
  },
  {
   "cell_type": "code",
   "execution_count": 5,
   "metadata": {},
   "outputs": [],
   "source": [
    "json.dump(layout, open(os.path.join(layout_img_folder, 'layout_new.json'), 'w'))"
   ]
  },
  {
   "cell_type": "code",
   "execution_count": null,
   "metadata": {},
   "outputs": [],
   "source": []
  },
  {
   "cell_type": "code",
   "execution_count": null,
   "metadata": {},
   "outputs": [],
   "source": []
  },
  {
   "cell_type": "markdown",
   "metadata": {},
   "source": [
    "## Generate grid style layouts with 8 subfigures"
   ]
  },
  {
   "cell_type": "code",
   "execution_count": 6,
   "metadata": {},
   "outputs": [
    {
     "name": "stdout",
     "output_type": "stream",
     "text": [
      "[[52, 52, 396, 396], [413, 52, 585, 224], [594, 52, 767, 224], [775, 52, 947, 224], [413, 232, 585, 405], [52, 413, 224, 585], [232, 413, 577, 757], [52, 594, 224, 767]]\n",
      "[[52, 52, 396, 396], [413, 52, 585, 224], [594, 52, 767, 224], [775, 52, 947, 224], [413, 232, 585, 405], [52, 413, 224, 585], [232, 413, 577, 757], [52, 594, 224, 767]]\n",
      "[[42, 42, 218, 218], [226, 42, 579, 394], [597, 42, 773, 218], [781, 42, 957, 218], [42, 226, 218, 402], [597, 226, 773, 402], [42, 411, 218, 587], [226, 411, 579, 763]]\n",
      "[[42, 42, 218, 218], [226, 42, 579, 394], [597, 42, 773, 218], [781, 42, 957, 218], [42, 226, 218, 402], [597, 226, 773, 402], [42, 411, 218, 587], [226, 411, 579, 763]]\n",
      "[[150, 150, 376, 376], [387, 150, 612, 376], [623, 150, 849, 376], [150, 387, 376, 612], [387, 387, 612, 612], [623, 387, 849, 612], [150, 623, 376, 849], [387, 623, 612, 849]]\n",
      "[[150, 150, 376, 376], [387, 150, 612, 376], [623, 150, 849, 376], [150, 387, 376, 612], [387, 387, 612, 612], [623, 387, 849, 612], [150, 623, 376, 849], [387, 623, 612, 849]]\n",
      "[[139, 139, 313, 313], [321, 139, 495, 313], [503, 139, 677, 313], [686, 139, 860, 313], [139, 321, 313, 495], [321, 321, 495, 495], [503, 321, 677, 495], [686, 321, 860, 495]]\n",
      "[[139, 139, 313, 313], [321, 139, 495, 313], [503, 139, 677, 313], [686, 139, 860, 313], [139, 321, 313, 495], [321, 321, 495, 495], [503, 321, 677, 495], [686, 321, 860, 495]]\n"
     ]
    }
   ],
   "source": [
    "import json\n",
    "import random, math\n",
    "import cv2\n",
    "import numpy as np\n",
    "\n",
    "# Load the intermediate data\n",
    "intermediate_data = json.load(open(os.path.join(layout_img_folder, 'layout_new.json'), 'r', encoding=\"utf8\"))\n",
    "\n",
    "# Generate denser layouts\n",
    "k = '8'\n",
    "num_of_images = 4\n",
    "layout = intermediate_data[0]\n",
    "\n",
    "# Generate denser layouts with aligned edges\n",
    "for _ in range(num_of_images):\n",
    "    new_layout = {}\n",
    "    num_squares = int(k)\n",
    "    canvas_size = (2048,2048)\n",
    "    square_size = (120, 120)\n",
    "    final_canvas_size = (1000, 1000)\n",
    "\n",
    "    new_layout['layout_id'] = layout['layout_id'].split('_')[0] + '_' + str(int(num_of_images/2) + _)\n",
    "    new_layout['pos'] = []\n",
    "\n",
    "    normal_image_edge = layout['pos'][0][2] - layout['pos'][0][0]\n",
    "    large_image_edge = (layout['pos'][0][2] - layout['pos'][0][0]) * 2\n",
    "    if _ >= int(num_of_images/2):\n",
    "        num_column = random.choice(np.arange(int(k)//5+1, min(5,int(k))))\n",
    "    else:\n",
    "        num_column = random.choice(np.arange(2,4))\n",
    "    # Calculate the position of the image in the table\n",
    "    num_row = math.ceil(int(k)/num_column)\n",
    "    \n",
    "    layout_numpy = -1*np.ones((num_row+1, num_column+1))\n",
    "    # Generate aligned edges\n",
    "    one_total = 0\n",
    "    for j in range(int(k)):\n",
    "        # Calculate the position of the image in the table layout_numpy value==1 means a small box. value==0 means a large box\n",
    "        row = j // num_column\n",
    "        col = j % num_column\n",
    "        if np.random.rand() > 0.5 or _ >= int(num_of_images/2) :\n",
    "            layout_numpy[row, col] = 1\n",
    "\n",
    "    one_total = np.sum(layout_numpy == 1)\n",
    "    # print(layout_numpy)\n",
    "    if _ < int(num_of_images/2):\n",
    "        if one_total == 0:\n",
    "            layout_numpy[row, col] = 1\n",
    "        elif one_total == int(k):\n",
    "            layout_numpy[0, 0] = -1\n",
    "    # print(layout_numpy)\n",
    "    # Expand the unit with value 0 to a 2x2 area\n",
    "    num_large_image = 0\n",
    "    for row in range(layout_numpy.shape[0]):\n",
    "        if int(k) == np.sum(layout_numpy == 1) + num_large_image:\n",
    "                break\n",
    "        for col in range(layout_numpy.shape[1]):\n",
    "            if int(k) == np.sum(layout_numpy == 1) + num_large_image:\n",
    "                break\n",
    "            if layout_numpy[row, col] == -1 and row+1 < layout_numpy.shape[0] and col+1 < layout_numpy.shape[1] \\\n",
    "                and layout_numpy[row+1, col] != 0 and layout_numpy[row, col+1] != 0 and layout_numpy[row+1, col+1] != 0:\n",
    "                layout_numpy[row, col] = 0\n",
    "                layout_numpy[row, col+1] = 0\n",
    "                layout_numpy[row+1, col] = 0\n",
    "                layout_numpy[row+1, col+1] = 0\n",
    "                num_large_image += 1\n",
    "    num_ones_to_move = int(k) - np.sum(layout_numpy == 1) - num_large_image\n",
    "    \n",
    "\n",
    "    # Add new columns to accommodate the remaining 1s\n",
    "    num_new_columns = (num_ones_to_move + num_column - 1) // num_column\n",
    "    layout_numpy = np.pad(layout_numpy, ((0, 0), (0, num_new_columns)), constant_values=-1)\n",
    "    # Move the remaining 1s to the new columns\n",
    "    one_moved = 0\n",
    "    for row in range(layout_numpy.shape[0]):\n",
    "        if num_ones_to_move == one_moved:\n",
    "            break\n",
    "        for col in range(layout_numpy.shape[1]):\n",
    "            if num_ones_to_move == one_moved:\n",
    "                    break\n",
    "            if layout_numpy[row, col] == -1:\n",
    "                layout_numpy[row, col] = 1\n",
    "                one_moved +=1\n",
    "                \n",
    "        \n",
    "    squares = []\n",
    "    # Update the 'pos' in new_layout\n",
    "    for row in range(layout_numpy.shape[0]):\n",
    "        for col in range(layout_numpy.shape[1]):\n",
    "            \n",
    "            if layout_numpy[row, col] == 1:\n",
    "                x = 250 + int(col * normal_image_edge*1.05)\n",
    "                y = 250 + int(row * normal_image_edge*1.05)\n",
    "                squares.append([x, y, x + normal_image_edge, y + normal_image_edge])\n",
    "            elif layout_numpy[row, col] == 0 and row+1 < layout_numpy.shape[0] and col+1 < layout_numpy.shape[1] \\\n",
    "                and layout_numpy[row+1, col] == 0 and layout_numpy[row, col+1] == 0 and layout_numpy[row+1, col+1] == 0:\n",
    "                x = 250 + int(col * normal_image_edge*1.05)\n",
    "                y = 250 + int(row * normal_image_edge*1.05)\n",
    "                layout_numpy[row, col] = -1\n",
    "                layout_numpy[row, col+1] = -1\n",
    "                layout_numpy[row+1, col] = -1\n",
    "                layout_numpy[row+1, col+1] = -1\n",
    "                squares.append([x, y, x + large_image_edge, y + large_image_edge])\n",
    "\n",
    "    # Find the bounding box of all squares\n",
    "    x_min = min([square[0] for square in squares])\n",
    "    y_min = min([square[1] for square in squares])\n",
    "    x_max = max([square[2] for square in squares])\n",
    "    y_max = max([square[3] for square in squares])\n",
    "\n",
    "    # Add a random margin\n",
    "    margin = np.random.randint(10, 150)\n",
    "    x_min -= margin\n",
    "    y_min -= margin\n",
    "    x_max += margin\n",
    "    y_max += margin\n",
    "\n",
    "    # Calculate the cropped dimensions\n",
    "    cropped_width = x_max - x_min\n",
    "    cropped_height = y_max - y_min\n",
    "\n",
    "    # Calculate the top-right corner of the square\n",
    "    top_right_corner = (x_max, y_min)\n",
    "\n",
    "    # Resize canvas and squares with the same ratio\n",
    "    resize_ratio = 1000 / max(cropped_width, cropped_height)\n",
    "    resized_squares = [[int((square[0] - x_min) * resize_ratio), int((square[1] - y_min) * resize_ratio),\n",
    "                        int((square[2] - x_min) * resize_ratio), int((square[3] - y_min) * resize_ratio)]\n",
    "                        for square in squares]\n",
    "    resized_canvas = cv2.resize(canvas[y_min:y_max, x_min:x_max], (int(cropped_width * resize_ratio), int(cropped_height * resize_ratio)))\n",
    "\n",
    "    # Print out the resized squares' location\n",
    "    print(resized_squares)\n",
    "    # Draw squares on the canvas\n",
    "    canvas = np.full((1000, 1000, 3), 255, dtype=np.uint8)  # White canvas\n",
    "    new_layout['layout_size'] = canvas.shape[:2]\n",
    "    new_layout['layout_id'] = k + '_' + str(_+int(num_of_images/2))\n",
    "    new_layout['pos'] = []\n",
    "    for x, y, x1, y1 in resized_squares:\n",
    "        cv2.rectangle(canvas, (x, y), (x1, y1), (0, 0, 0), 2)  # Black squares\n",
    "        new_layout['pos'].append([x, y, x1, y1])\n",
    "\n",
    "    # Save the resized canvas\n",
    "    new_layout['layout_id'] = k + '_' + str(_+int(num_of_images/2))\n",
    "    new_layout['image'] = os.path.join(layout_img_folder, new_layout['layout_id']+'.jpg') \n",
    "    cv2.imwrite(new_layout['image'], canvas)\n",
    "    # cv2.imwrite('test.jpg', canvas)\n",
    "    # Print out the squares' location in the 1000 by 1000 canvas\n",
    "    print(resized_squares)\n",
    "    \n",
    "    intermediate_data.append(new_layout)\n",
    "\n"
   ]
  },
  {
   "cell_type": "code",
   "execution_count": 7,
   "metadata": {},
   "outputs": [
    {
     "data": {
      "text/plain": [
       "[{'layout_size': [1000, 1000, 3],\n",
       "  'layout_id': '8_0',\n",
       "  'pos': [[187, 67, 354, 234],\n",
       "   [287, 287, 454, 454],\n",
       "   [347, 567, 514, 734],\n",
       "   [112, 502, 279, 669],\n",
       "   [567, 157, 734, 324],\n",
       "   [597, 387, 764, 554],\n",
       "   [662, 617, 829, 784],\n",
       "   [67, 282, 234, 449]],\n",
       "  'image': '../../layout_new8_0.jpg'},\n",
       " {'layout_size': [1000, 1000, 3],\n",
       "  'layout_id': '8_1',\n",
       "  'pos': [[226, 446, 385, 605],\n",
       "   [156, 201, 315, 360],\n",
       "   [386, 626, 545, 785],\n",
       "   [556, 406, 715, 565],\n",
       "   [461, 126, 620, 285],\n",
       "   [741, 81, 900, 240],\n",
       "   [681, 631, 840, 790],\n",
       "   [81, 626, 240, 785]],\n",
       "  'image': '../../layout_new8_1.jpg'},\n",
       " {'layout_id': '8_2',\n",
       "  'pos': [[52, 52, 396, 396],\n",
       "   [413, 52, 585, 224],\n",
       "   [594, 52, 767, 224],\n",
       "   [775, 52, 947, 224],\n",
       "   [413, 232, 585, 405],\n",
       "   [52, 413, 224, 585],\n",
       "   [232, 413, 577, 757],\n",
       "   [52, 594, 224, 767]],\n",
       "  'layout_size': (1000, 1000),\n",
       "  'image': '../../layout_new/8_2.jpg'},\n",
       " {'layout_id': '8_3',\n",
       "  'pos': [[42, 42, 218, 218],\n",
       "   [226, 42, 579, 394],\n",
       "   [597, 42, 773, 218],\n",
       "   [781, 42, 957, 218],\n",
       "   [42, 226, 218, 402],\n",
       "   [597, 226, 773, 402],\n",
       "   [42, 411, 218, 587],\n",
       "   [226, 411, 579, 763]],\n",
       "  'layout_size': (1000, 1000),\n",
       "  'image': '../../layout_new/8_3.jpg'},\n",
       " {'layout_id': '8_4',\n",
       "  'pos': [[150, 150, 376, 376],\n",
       "   [387, 150, 612, 376],\n",
       "   [623, 150, 849, 376],\n",
       "   [150, 387, 376, 612],\n",
       "   [387, 387, 612, 612],\n",
       "   [623, 387, 849, 612],\n",
       "   [150, 623, 376, 849],\n",
       "   [387, 623, 612, 849]],\n",
       "  'layout_size': (1000, 1000),\n",
       "  'image': '../../layout_new/8_4.jpg'},\n",
       " {'layout_id': '8_5',\n",
       "  'pos': [[139, 139, 313, 313],\n",
       "   [321, 139, 495, 313],\n",
       "   [503, 139, 677, 313],\n",
       "   [686, 139, 860, 313],\n",
       "   [139, 321, 313, 495],\n",
       "   [321, 321, 495, 495],\n",
       "   [503, 321, 677, 495],\n",
       "   [686, 321, 860, 495]],\n",
       "  'layout_size': (1000, 1000),\n",
       "  'image': '../../layout_new/8_5.jpg'}]"
      ]
     },
     "execution_count": 7,
     "metadata": {},
     "output_type": "execute_result"
    }
   ],
   "source": [
    "intermediate_data"
   ]
  },
  {
   "cell_type": "code",
   "execution_count": 8,
   "metadata": {},
   "outputs": [],
   "source": [
    "# Save the updated data\n",
    "json.dump(intermediate_data, open(os.path.join(layout_img_folder, 'layout_new.json'), 'w'))\n"
   ]
  },
  {
   "cell_type": "code",
   "execution_count": null,
   "metadata": {},
   "outputs": [],
   "source": []
  },
  {
   "cell_type": "markdown",
   "metadata": {},
   "source": [
    "## Generate layouts with 2-7 subfigures from the previous generated layouts"
   ]
  },
  {
   "cell_type": "code",
   "execution_count": 9,
   "metadata": {},
   "outputs": [],
   "source": [
    "import json\n",
    "data = json.load(open(os.path.join(layout_img_folder, 'layout_new.json'), 'r', encoding=\"utf8\"))"
   ]
  },
  {
   "cell_type": "code",
   "execution_count": 10,
   "metadata": {},
   "outputs": [],
   "source": [
    "intermediate_data = {}\n",
    "intermediate_data['8'] = data"
   ]
  },
  {
   "cell_type": "code",
   "execution_count": 11,
   "metadata": {},
   "outputs": [
    {
     "name": "stdout",
     "output_type": "stream",
     "text": [
      "6\n"
     ]
    }
   ],
   "source": [
    "print(len(intermediate_data['8']))"
   ]
  },
  {
   "cell_type": "code",
   "execution_count": 12,
   "metadata": {},
   "outputs": [],
   "source": [
    "random_idex = [[3,0, 6, 2, 7, 4, 1, 5],\n",
    "               [0,7, 6, 2, 3, 1, 4, 5],\n",
    "               [0,1,2,6,7,4,3,5],\n",
    "               [0,2,6,7,1,3,5,4],\n",
    "               [0,4,2,7,5,6,1,3],\n",
    "               [0,1,2,3,4,5,6,7],\n",
    "               ]"
   ]
  },
  {
   "cell_type": "code",
   "execution_count": 13,
   "metadata": {},
   "outputs": [
    {
     "data": {
      "text/plain": [
       "[[3, 0, 6, 2, 7, 4, 1, 5],\n",
       " [0, 7, 6, 2, 3, 1, 4, 5],\n",
       " [0, 1, 2, 6, 7, 4, 3, 5],\n",
       " [0, 2, 6, 7, 1, 3, 5, 4],\n",
       " [0, 4, 2, 7, 5, 6, 1, 3],\n",
       " [0, 1, 2, 3, 4, 5, 6, 7]]"
      ]
     },
     "execution_count": 13,
     "metadata": {},
     "output_type": "execute_result"
    }
   ],
   "source": [
    "random_idex"
   ]
  },
  {
   "cell_type": "code",
   "execution_count": 14,
   "metadata": {},
   "outputs": [],
   "source": [
    "new_data = {}\n",
    "for j in range(9):\n",
    "    new_data[str(j)] = []\n",
    "for i in range(len(random_idex)):\n",
    "    for j in range(8):\n",
    "\n",
    "        k = '8'\n",
    "        new_layout = {}\n",
    "        new_layout['layout_id'] = str(8-j) + '_' + str(i)\n",
    "        # print(new_layout['layout_id'])\n",
    "        # print(resized_squares)\n",
    "        # Draw squares on the canvas\n",
    "        canvas = np.full((1000, 1000, 3), 255, dtype=np.uint8)  # White canvas\n",
    "        new_layout['layout_size'] = canvas.shape[:2]\n",
    "        new_layout['pos'] = []\n",
    "        new_layout['positional_descriptor'] =[]\n",
    "        for a in range(len(intermediate_data[k][i]['pos'])-j):\n",
    "            new_layout['positional_descriptor'].append(new_layout['layout_id']+'_'+str(a))\n",
    "            new_layout['pos'].append(intermediate_data[k][i]['pos'][random_idex[i][a]])\n",
    "            [x, y, x1, y1] = intermediate_data[k][i]['pos'][random_idex[i][a]]\n",
    "            cv2.putText(canvas, str(random_idex[i][a]), (x, y+20), cv2.FONT_HERSHEY_SIMPLEX, 1, (0, 0, 0), 2)\n",
    "            cv2.rectangle(canvas, (x, y), (x1, y1), (0, 0, 0), 2)  # Black squares\n",
    "\n",
    "\n",
    "        # Save the resized canvas\n",
    "        new_layout['image'] = os.path.join(layout_img_folder, new_layout['layout_id']+'.jpg')\n",
    "        cv2.imwrite(new_layout['image'], canvas)\n",
    "        # cv2.imwrite('test.jpg', canvas)\n",
    "        # Print out the squares' location in the 1000 by 1000 canvas\n",
    "        new_data[str(8-j)].append(new_layout)\n"
   ]
  },
  {
   "cell_type": "code",
   "execution_count": 15,
   "metadata": {},
   "outputs": [],
   "source": [
    "json.dump(new_data, open(os.path.join(layout_img_folder, 'layout_new.json'), 'w', encoding=\"utf8\"), indent='\\t', separators=(',', ': '))"
   ]
  },
  {
   "cell_type": "code",
   "execution_count": null,
   "metadata": {},
   "outputs": [],
   "source": []
  }
 ],
 "metadata": {
  "kernelspec": {
   "display_name": "py39",
   "language": "python",
   "name": "python3"
  },
  "language_info": {
   "codemirror_mode": {
    "name": "ipython",
    "version": 3
   },
   "file_extension": ".py",
   "mimetype": "text/x-python",
   "name": "python",
   "nbconvert_exporter": "python",
   "pygments_lexer": "ipython3",
   "version": "3.9.16"
  }
 },
 "nbformat": 4,
 "nbformat_minor": 2
}
